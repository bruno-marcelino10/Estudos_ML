{
 "cells": [
  {
   "attachments": {},
   "cell_type": "markdown",
   "metadata": {},
   "source": [
    "# Classificação"
   ]
  },
  {
   "attachments": {},
   "cell_type": "markdown",
   "metadata": {},
   "source": [
    "**TAREFA**\n",
    "\n",
    "Modelos: KNN, SVM, regressão logística \n",
    "Classificação: funcionamento, avaliação e seleção de features"
   ]
  },
  {
   "attachments": {},
   "cell_type": "markdown",
   "metadata": {},
   "source": [
    "Os dados consistem em uma base que contém features construídas a partir da cotação do ativo em questão, tentando prever seu cenário binário futuro (alta/baixa) como target"
   ]
  },
  {
   "cell_type": "code",
   "execution_count": 2,
   "metadata": {},
   "outputs": [],
   "source": [
    "import warnings\n",
    "warnings.filterwarnings('ignore')"
   ]
  },
  {
   "cell_type": "code",
   "execution_count": 3,
   "metadata": {},
   "outputs": [],
   "source": [
    "import pandas as pd\n",
    "import numpy as np\n",
    "import matplotlib.pyplot as plt\n",
    "import yfinance as yf\n",
    "from ta import add_all_ta_features\n",
    "from ta.utils import dropna"
   ]
  },
  {
   "cell_type": "code",
   "execution_count": 4,
   "metadata": {},
   "outputs": [
    {
     "name": "stdout",
     "output_type": "stream",
     "text": [
      "[*********************100%***********************]  1 of 1 completed\n"
     ]
    },
    {
     "data": {
      "text/html": [
       "<div>\n",
       "<style scoped>\n",
       "    .dataframe tbody tr th:only-of-type {\n",
       "        vertical-align: middle;\n",
       "    }\n",
       "\n",
       "    .dataframe tbody tr th {\n",
       "        vertical-align: top;\n",
       "    }\n",
       "\n",
       "    .dataframe thead th {\n",
       "        text-align: right;\n",
       "    }\n",
       "</style>\n",
       "<table border=\"1\" class=\"dataframe\">\n",
       "  <thead>\n",
       "    <tr style=\"text-align: right;\">\n",
       "      <th></th>\n",
       "      <th>Open</th>\n",
       "      <th>High</th>\n",
       "      <th>Low</th>\n",
       "      <th>Close</th>\n",
       "      <th>Adj Close</th>\n",
       "      <th>Volume</th>\n",
       "    </tr>\n",
       "    <tr>\n",
       "      <th>Date</th>\n",
       "      <th></th>\n",
       "      <th></th>\n",
       "      <th></th>\n",
       "      <th></th>\n",
       "      <th></th>\n",
       "      <th></th>\n",
       "    </tr>\n",
       "  </thead>\n",
       "  <tbody>\n",
       "    <tr>\n",
       "      <th>2013-01-02</th>\n",
       "      <td>15.481638</td>\n",
       "      <td>15.727523</td>\n",
       "      <td>15.440657</td>\n",
       "      <td>15.700202</td>\n",
       "      <td>10.290003</td>\n",
       "      <td>21347017</td>\n",
       "    </tr>\n",
       "    <tr>\n",
       "      <th>2013-01-03</th>\n",
       "      <td>15.622794</td>\n",
       "      <td>16.278486</td>\n",
       "      <td>15.531725</td>\n",
       "      <td>16.169205</td>\n",
       "      <td>10.597390</td>\n",
       "      <td>29351983</td>\n",
       "    </tr>\n",
       "  </tbody>\n",
       "</table>\n",
       "</div>"
      ],
      "text/plain": [
       "                 Open       High        Low      Close  Adj Close    Volume\n",
       "Date                                                                       \n",
       "2013-01-02  15.481638  15.727523  15.440657  15.700202  10.290003  21347017\n",
       "2013-01-03  15.622794  16.278486  15.531725  16.169205  10.597390  29351983"
      ]
     },
     "execution_count": 4,
     "metadata": {},
     "output_type": "execute_result"
    }
   ],
   "source": [
    "data = yf.download(\"ITUB4.SA\",\n",
    "                   start = '2013-01-01',\n",
    "                   period = \"10y\", # 1d,5d,1mo,3mo,6mo,1y,2y,5y,10y,ytd,max\n",
    "                   interval = \"1d\") # 1m,2m,5m,15m,30m,60m,90m,1h,1d,5d,1wk,1mo,3mo\n",
    "\n",
    "data.head(2)"
   ]
  },
  {
   "cell_type": "code",
   "execution_count": 13,
   "metadata": {},
   "outputs": [
    {
     "name": "stdout",
     "output_type": "stream",
     "text": [
      "<class 'pandas.core.frame.DataFrame'>\n",
      "DatetimeIndex: 2508 entries, 2013-01-02 to 2023-02-24\n",
      "Data columns (total 93 columns):\n",
      " #   Column                     Non-Null Count  Dtype  \n",
      "---  ------                     --------------  -----  \n",
      " 0   Open                       2508 non-null   float64\n",
      " 1   High                       2508 non-null   float64\n",
      " 2   Low                        2508 non-null   float64\n",
      " 3   Close                      2508 non-null   float64\n",
      " 4   Adj Close                  2508 non-null   float64\n",
      " 5   Volume                     2508 non-null   float64\n",
      " 6   volume_adi                 2508 non-null   float64\n",
      " 7   volume_obv                 2508 non-null   float64\n",
      " 8   volume_cmf                 2508 non-null   float64\n",
      " 9   volume_fi                  2508 non-null   float64\n",
      " 10  volume_em                  2508 non-null   float64\n",
      " 11  volume_sma_em              2508 non-null   float64\n",
      " 12  volume_vpt                 2508 non-null   float64\n",
      " 13  volume_vwap                2508 non-null   float64\n",
      " 14  volume_mfi                 2508 non-null   float64\n",
      " 15  volume_nvi                 2508 non-null   float64\n",
      " 16  volatility_bbm             2508 non-null   float64\n",
      " 17  volatility_bbh             2508 non-null   float64\n",
      " 18  volatility_bbl             2508 non-null   float64\n",
      " 19  volatility_bbw             2508 non-null   float64\n",
      " 20  volatility_bbp             2508 non-null   float64\n",
      " 21  volatility_bbhi            2508 non-null   float64\n",
      " 22  volatility_bbli            2508 non-null   float64\n",
      " 23  volatility_kcc             2508 non-null   float64\n",
      " 24  volatility_kch             2508 non-null   float64\n",
      " 25  volatility_kcl             2508 non-null   float64\n",
      " 26  volatility_kcw             2508 non-null   float64\n",
      " 27  volatility_kcp             2508 non-null   float64\n",
      " 28  volatility_kchi            2508 non-null   float64\n",
      " 29  volatility_kcli            2508 non-null   float64\n",
      " 30  volatility_dcl             2508 non-null   float64\n",
      " 31  volatility_dch             2508 non-null   float64\n",
      " 32  volatility_dcm             2508 non-null   float64\n",
      " 33  volatility_dcw             2508 non-null   float64\n",
      " 34  volatility_dcp             2508 non-null   float64\n",
      " 35  volatility_atr             2508 non-null   float64\n",
      " 36  volatility_ui              2508 non-null   float64\n",
      " 37  trend_macd                 2508 non-null   float64\n",
      " 38  trend_macd_signal          2508 non-null   float64\n",
      " 39  trend_macd_diff            2508 non-null   float64\n",
      " 40  trend_sma_fast             2508 non-null   float64\n",
      " 41  trend_sma_slow             2508 non-null   float64\n",
      " 42  trend_ema_fast             2508 non-null   float64\n",
      " 43  trend_ema_slow             2508 non-null   float64\n",
      " 44  trend_vortex_ind_pos       2508 non-null   float64\n",
      " 45  trend_vortex_ind_neg       2508 non-null   float64\n",
      " 46  trend_vortex_ind_diff      2508 non-null   float64\n",
      " 47  trend_trix                 2508 non-null   float64\n",
      " 48  trend_mass_index           2508 non-null   float64\n",
      " 49  trend_dpo                  2508 non-null   float64\n",
      " 50  trend_kst                  2508 non-null   float64\n",
      " 51  trend_kst_sig              2508 non-null   float64\n",
      " 52  trend_kst_diff             2508 non-null   float64\n",
      " 53  trend_ichimoku_conv        2508 non-null   float64\n",
      " 54  trend_ichimoku_base        2508 non-null   float64\n",
      " 55  trend_ichimoku_a           2508 non-null   float64\n",
      " 56  trend_ichimoku_b           2508 non-null   float64\n",
      " 57  trend_stc                  2508 non-null   float64\n",
      " 58  trend_adx                  2508 non-null   float64\n",
      " 59  trend_adx_pos              2508 non-null   float64\n",
      " 60  trend_adx_neg              2508 non-null   float64\n",
      " 61  trend_cci                  2508 non-null   float64\n",
      " 62  trend_visual_ichimoku_a    2508 non-null   float64\n",
      " 63  trend_visual_ichimoku_b    2508 non-null   float64\n",
      " 64  trend_aroon_up             2508 non-null   float64\n",
      " 65  trend_aroon_down           2508 non-null   float64\n",
      " 66  trend_aroon_ind            2508 non-null   float64\n",
      " 67  trend_psar_up              2508 non-null   float64\n",
      " 68  trend_psar_down            2508 non-null   float64\n",
      " 69  trend_psar_up_indicator    2508 non-null   float64\n",
      " 70  trend_psar_down_indicator  2508 non-null   float64\n",
      " 71  momentum_rsi               2508 non-null   float64\n",
      " 72  momentum_stoch_rsi         2508 non-null   float64\n",
      " 73  momentum_stoch_rsi_k       2508 non-null   float64\n",
      " 74  momentum_stoch_rsi_d       2508 non-null   float64\n",
      " 75  momentum_tsi               2508 non-null   float64\n",
      " 76  momentum_uo                2508 non-null   float64\n",
      " 77  momentum_stoch             2508 non-null   float64\n",
      " 78  momentum_stoch_signal      2508 non-null   float64\n",
      " 79  momentum_wr                2508 non-null   float64\n",
      " 80  momentum_ao                2508 non-null   float64\n",
      " 81  momentum_roc               2508 non-null   float64\n",
      " 82  momentum_ppo               2508 non-null   float64\n",
      " 83  momentum_ppo_signal        2508 non-null   float64\n",
      " 84  momentum_ppo_hist          2508 non-null   float64\n",
      " 85  momentum_pvo               2508 non-null   float64\n",
      " 86  momentum_pvo_signal        2508 non-null   float64\n",
      " 87  momentum_pvo_hist          2508 non-null   float64\n",
      " 88  momentum_kama              2508 non-null   float64\n",
      " 89  others_dr                  2508 non-null   float64\n",
      " 90  others_dlr                 2508 non-null   float64\n",
      " 91  others_cr                  2508 non-null   float64\n",
      " 92  Target                     2508 non-null   int32  \n",
      "dtypes: float64(92), int32(1)\n",
      "memory usage: 1.8 MB\n"
     ]
    }
   ],
   "source": [
    "df = dropna(data)\n",
    "df = add_all_ta_features(df,\n",
    "                        open=\"Open\",\n",
    "                        high=\"High\",\n",
    "                        low=\"Low\",\n",
    "                        close=\"Adj Close\",\n",
    "                        volume=\"Volume\",\n",
    "                        fillna=True)\n",
    "\n",
    "df.dropna(axis=1, inplace=True)\n",
    "df[\"Target\"] = df[\"Adj Close\"].pct_change().shift(-1)\n",
    "df[\"Target\"] = np.where(df[\"Target\"] > 0, 1, 0)\n",
    "df.dropna(axis=0, inplace=True)\n",
    "df.info()"
   ]
  },
  {
   "attachments": {},
   "cell_type": "markdown",
   "metadata": {},
   "source": [
    "# Feature Engineering "
   ]
  },
  {
   "cell_type": "code",
   "execution_count": null,
   "metadata": {},
   "outputs": [],
   "source": [
    "X = df.drop(\"Target\", axis = 1)\n",
    "y = df[\"Target\"]"
   ]
  },
  {
   "attachments": {},
   "cell_type": "markdown",
   "metadata": {},
   "source": [
    "### Supervisionados"
   ]
  },
  {
   "cell_type": "code",
   "execution_count": 54,
   "metadata": {},
   "outputs": [],
   "source": [
    "from sklearn.feature_selection import f_classif, SelectKBest, chi2, SelectFromModel\n",
    "from sklearn.model_selection import train_test_split\n",
    "from sklearn.ensemble import RandomForestClassifier\n",
    "from sklearn.metrics import classification_report, confusion_matrix, accuracy_score, roc_curve, auc, RocCurveDisplay\n",
    "\n"
   ]
  },
  {
   "cell_type": "code",
   "execution_count": 51,
   "metadata": {},
   "outputs": [
    {
     "name": "stdout",
     "output_type": "stream",
     "text": [
      "0.5179282868525896\n",
      "[[202  53]\n",
      " [189  58]]\n",
      "              precision    recall  f1-score   support\n",
      "\n",
      "           0       0.52      0.79      0.63       255\n",
      "           1       0.52      0.23      0.32       247\n",
      "\n",
      "    accuracy                           0.52       502\n",
      "   macro avg       0.52      0.51      0.47       502\n",
      "weighted avg       0.52      0.52      0.48       502\n",
      "\n",
      "AUC - Teste : 0.5134873382551401\n"
     ]
    }
   ],
   "source": [
    "X_train, X_test, y_train, y_test = train_test_split(X, y, test_size = 0.2, shuffle = False)\n",
    "\n",
    "selector = SelectKBest(score_func=f_classif, k=15)\n",
    "X_train = selector.fit_transform(X_train, y_train,)\n",
    "X_test = selector.transform(X_test)\n",
    "\n",
    "modelo = RandomForestClassifier()\n",
    "modelo.fit(X_train, y_train)\n",
    "y_pred = modelo.predict(X_test)\n",
    "\n",
    "print(accuracy_score(y_test, y_pred))\n",
    "print(confusion_matrix(y_test, y_pred))\n",
    "print(classification_report(y_test, y_pred))\n",
    "\n",
    "fpr, tpr, thresholds = roc_curve(y_test, y_pred)\n",
    "roc_auc = auc(fpr, tpr)\n",
    "print(\"AUC - Teste :\", roc_auc)"
   ]
  },
  {
   "cell_type": "code",
   "execution_count": 56,
   "metadata": {},
   "outputs": [
    {
     "name": "stdout",
     "output_type": "stream",
     "text": [
      "0.5179282868525896\n",
      "[[192  63]\n",
      " [179  68]]\n",
      "              precision    recall  f1-score   support\n",
      "\n",
      "           0       0.52      0.75      0.61       255\n",
      "           1       0.52      0.28      0.36       247\n",
      "\n",
      "    accuracy                           0.52       502\n",
      "   macro avg       0.52      0.51      0.49       502\n",
      "weighted avg       0.52      0.52      0.49       502\n",
      "\n",
      "AUC - Teste : 0.5141224100976423\n"
     ]
    }
   ],
   "source": [
    "X_train, X_test, y_train, y_test = train_test_split(X, y, test_size = 0.2, shuffle = False)\n",
    "\n",
    "selector = SelectFromModel(RandomForestClassifier())\n",
    "X_train = selector.fit_transform(X_train, y_train,)\n",
    "X_test = selector.transform(X_test)\n",
    "\n",
    "modelo = RandomForestClassifier()\n",
    "modelo.fit(X_train, y_train)\n",
    "y_pred = modelo.predict(X_test)\n",
    "\n",
    "print(accuracy_score(y_test, y_pred))\n",
    "print(confusion_matrix(y_test, y_pred))\n",
    "print(classification_report(y_test, y_pred))\n",
    "\n",
    "fpr, tpr, thresholds = roc_curve(y_test, y_pred)\n",
    "roc_auc = auc(fpr, tpr)\n",
    "print(\"AUC - Teste :\", roc_auc)"
   ]
  },
  {
   "attachments": {},
   "cell_type": "markdown",
   "metadata": {},
   "source": [
    "### Não-Supervisionados"
   ]
  },
  {
   "cell_type": "code",
   "execution_count": 60,
   "metadata": {},
   "outputs": [],
   "source": [
    "from sklearn.metrics import classification_report, confusion_matrix, accuracy_score, roc_curve, auc, RocCurveDisplay\n",
    "from sklearn.ensemble import RandomForestClassifier\n",
    "from sklearn.model_selection import train_test_split\n",
    "from sklearn.decomposition import PCA, KernelPCA, FactorAnalysis "
   ]
  },
  {
   "cell_type": "code",
   "execution_count": 63,
   "metadata": {},
   "outputs": [
    {
     "name": "stdout",
     "output_type": "stream",
     "text": [
      "0.5059760956175299\n",
      "[[183  72]\n",
      " [176  71]]\n",
      "              precision    recall  f1-score   support\n",
      "\n",
      "           0       0.51      0.72      0.60       255\n",
      "           1       0.50      0.29      0.36       247\n",
      "\n",
      "    accuracy                           0.51       502\n",
      "   macro avg       0.50      0.50      0.48       502\n",
      "weighted avg       0.50      0.51      0.48       502\n",
      "\n",
      "AUC - Teste : 0.5025482257680399\n"
     ]
    }
   ],
   "source": [
    "X_train, X_test, y_train, y_test = train_test_split(X, y, test_size = 0.2, shuffle = False)\n",
    "\n",
    "pca = PCA(n_components=0.90)\n",
    "X_train = pca.fit_transform(X_train)\n",
    "X_test = pca.transform(X_test)\n",
    "\n",
    "modelo = RandomForestClassifier()\n",
    "modelo.fit(X_train, y_train)\n",
    "y_pred = modelo.predict(X_test)\n",
    "\n",
    "print(accuracy_score(y_test, y_pred))\n",
    "print(confusion_matrix(y_test, y_pred))\n",
    "print(classification_report(y_test, y_pred))\n",
    "\n",
    "fpr, tpr, thresholds = roc_curve(y_test, y_pred)\n",
    "roc_auc = auc(fpr, tpr)\n",
    "print(\"AUC - Teste :\", roc_auc)"
   ]
  },
  {
   "cell_type": "code",
   "execution_count": 67,
   "metadata": {},
   "outputs": [
    {
     "name": "stdout",
     "output_type": "stream",
     "text": [
      "0.5059760956175299\n",
      "[[182  73]\n",
      " [175  72]]\n",
      "              precision    recall  f1-score   support\n",
      "\n",
      "           0       0.51      0.71      0.59       255\n",
      "           1       0.50      0.29      0.37       247\n",
      "\n",
      "    accuracy                           0.51       502\n",
      "   macro avg       0.50      0.50      0.48       502\n",
      "weighted avg       0.50      0.51      0.48       502\n",
      "\n",
      "AUC - Teste : 0.5026117329522902\n"
     ]
    }
   ],
   "source": [
    "pca = KernelPCA()\n",
    "X_train = pca.fit_transform(X_train)\n",
    "X_test = pca.transform(X_test)\n",
    "\n",
    "modelo = RandomForestClassifier()\n",
    "modelo.fit(X_train, y_train)\n",
    "y_pred = modelo.predict(X_test)\n",
    "\n",
    "print(accuracy_score(y_test, y_pred))\n",
    "print(confusion_matrix(y_test, y_pred))\n",
    "print(classification_report(y_test, y_pred))\n",
    "\n",
    "fpr, tpr, thresholds = roc_curve(y_test, y_pred)\n",
    "roc_auc = auc(fpr, tpr)\n",
    "print(\"AUC - Teste :\", roc_auc)"
   ]
  },
  {
   "cell_type": "code",
   "execution_count": 71,
   "metadata": {},
   "outputs": [
    {
     "name": "stdout",
     "output_type": "stream",
     "text": [
      "0.5179282868525896\n",
      "[[187  68]\n",
      " [174  73]]\n",
      "              precision    recall  f1-score   support\n",
      "\n",
      "           0       0.52      0.73      0.61       255\n",
      "           1       0.52      0.30      0.38       247\n",
      "\n",
      "    accuracy                           0.52       502\n",
      "   macro avg       0.52      0.51      0.49       502\n",
      "weighted avg       0.52      0.52      0.49       502\n",
      "\n",
      "AUC - Teste : 0.5144399460188934\n"
     ]
    }
   ],
   "source": [
    "pca = FactorAnalysis()\n",
    "X_train = pca.fit_transform(X_train)\n",
    "X_test = pca.transform(X_test)\n",
    "\n",
    "modelo = RandomForestClassifier()\n",
    "modelo.fit(X_train, y_train)\n",
    "y_pred = modelo.predict(X_test)\n",
    "\n",
    "print(accuracy_score(y_test, y_pred))\n",
    "print(confusion_matrix(y_test, y_pred))\n",
    "print(classification_report(y_test, y_pred))\n",
    "\n",
    "fpr, tpr, thresholds = roc_curve(y_test, y_pred)\n",
    "roc_auc = auc(fpr, tpr)\n",
    "print(\"AUC - Teste :\", roc_auc)"
   ]
  }
 ],
 "metadata": {
  "kernelspec": {
   "display_name": "Python 3",
   "language": "python",
   "name": "python3"
  },
  "language_info": {
   "codemirror_mode": {
    "name": "ipython",
    "version": 3
   },
   "file_extension": ".py",
   "mimetype": "text/x-python",
   "name": "python",
   "nbconvert_exporter": "python",
   "pygments_lexer": "ipython3",
   "version": "3.8.5"
  },
  "orig_nbformat": 4,
  "vscode": {
   "interpreter": {
    "hash": "72bf47092338eed38b0780b83b91fd9a109f9b0b6603c4f71c3497fbd9ba9af9"
   }
  }
 },
 "nbformat": 4,
 "nbformat_minor": 2
}
