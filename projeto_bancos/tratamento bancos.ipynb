{
 "cells": [
  {
   "cell_type": "markdown",
   "metadata": {},
   "source": [
    "# Tratamento de Dados"
   ]
  },
  {
   "cell_type": "markdown",
   "metadata": {},
   "source": [
    "**TAREFA**\n",
    "\n",
    "Webscraping, coleta e preparação dos DataFrames."
   ]
  },
  {
   "cell_type": "markdown",
   "metadata": {},
   "source": [
    "Os dados consistem em uma base que contém as features:\n",
    "* IGP-M,\n",
    "* Var. % no PIB nominal, \n",
    "* Spread NTN-B, inclinação da curva \n",
    "* indicador de concessão de crédito.\n",
    "\n",
    " Como target, será importado o desempenho do **ETF FIND11**, que segue o IFNC, índice de desempenho das maiores instituições financeiras do país. "
   ]
  },
  {
   "cell_type": "markdown",
   "metadata": {},
   "source": [
    "### Importação de Bibliotecas"
   ]
  },
  {
   "cell_type": "code",
   "execution_count": 1,
   "metadata": {},
   "outputs": [],
   "source": [
    "import pandas as pd\n",
    "import numpy as np\n",
    "import matplotlib.pyplot as plt\n",
    "import yfinance as yf"
   ]
  },
  {
   "cell_type": "markdown",
   "metadata": {},
   "source": [
    "### Importação Target"
   ]
  },
  {
   "cell_type": "code",
   "execution_count": 2,
   "metadata": {},
   "outputs": [
    {
     "name": "stdout",
     "output_type": "stream",
     "text": [
      "[*********************100%***********************]  1 of 1 completed\n"
     ]
    }
   ],
   "source": [
    "data = yf.download(\"FIND11.SA\",\n",
    "                   start = '2020-01-01',\n",
    "                   period = \"1y\", # 1d,5d,1mo,3mo,6mo,1y,2y,5y,10y,ytd,max\n",
    "                   interval = \"1mo\") # 1m,2m,5m,15m,30m,60m,90m,1h,1d,5d,1wk,1mo,3mo\n",
    "                   \n",
    "target = data[\"Adj Close\"].pct_change().dropna()"
   ]
  },
  {
   "cell_type": "markdown",
   "metadata": {},
   "source": [
    "### Importação Features\n",
    "\n",
    "Fontes: \n",
    "\n",
    "https://www3.bcb.gov.br/sgspub/localizarseries/localizarSeries.do?method=prepararTelaLocalizarSeries\n",
    "\n",
    "https://dadosabertos.bcb.gov.br/dataset/20542-saldo-da-carteira-de-credito-com-recursos-livres---total/resource/6e2b0c97-afab-4790-b8aa-b9542923cf88\n",
    "\n",
    "http://www.ipeadata.gov.br/ExibeSerie.aspx?serid=521274780&module=M"
   ]
  },
  {
   "cell_type": "code",
   "execution_count": 3,
   "metadata": {},
   "outputs": [],
   "source": [
    "def get_BCB(codigo_serie):\n",
    "    url = f\"https://api.bcb.gov.br/dados/serie/bcdata.sgs.{codigo_serie}/dados?formato=json\"\n",
    "    df = pd.read_json(url)\n",
    "    df[\"data\"] = pd.to_datetime(df[\"data\"], dayfirst = True)\n",
    "    df.set_index(\"data\", inplace = True)\n",
    "    df[\"valor\"] = df[\"valor\"].astype(float)\n",
    "    return df\n",
    "\n",
    "def get_pib(url):\n",
    "    pib = pd.read_html(url)[2]\n",
    "    pib.columns = pib.loc[0]\n",
    "    pib.drop(0, axis = 0, inplace = True)\n",
    "    pib.reset_index(drop = True, inplace = True)\n",
    "\n",
    "    datas, pibs = [], []\n",
    "    for i in range(len(pib)):\n",
    "        data_iter = pib.iloc[i, 0].replace(\".\", \"\")\n",
    "        pib_iter = float(pib.iloc[i, 1].replace(\".\", \"\"))/10000    \n",
    "        datas.append(data_iter)\n",
    "        pibs.append(pib_iter)\n",
    "\n",
    "    pib[\"Data\"] = pd.to_datetime(datas, format = \"%Y%m\")\n",
    "    pib[\"PIB\"] = pibs\n",
    "    pib.set_index(\"Data\", inplace = True)\n",
    "    \n",
    "    return pib"
   ]
  },
  {
   "cell_type": "code",
   "execution_count": 6,
   "metadata": {},
   "outputs": [
    {
     "data": {
      "text/html": [
       "<div>\n",
       "<style scoped>\n",
       "    .dataframe tbody tr th:only-of-type {\n",
       "        vertical-align: middle;\n",
       "    }\n",
       "\n",
       "    .dataframe tbody tr th {\n",
       "        vertical-align: top;\n",
       "    }\n",
       "\n",
       "    .dataframe thead th {\n",
       "        text-align: right;\n",
       "    }\n",
       "</style>\n",
       "<table border=\"1\" class=\"dataframe\">\n",
       "  <thead>\n",
       "    <tr style=\"text-align: right;\">\n",
       "      <th></th>\n",
       "      <th>PIB</th>\n",
       "    </tr>\n",
       "    <tr>\n",
       "      <th>Data</th>\n",
       "      <th></th>\n",
       "    </tr>\n",
       "  </thead>\n",
       "  <tbody>\n",
       "    <tr>\n",
       "      <th>1990-01-01</th>\n",
       "      <td>0.2</td>\n",
       "    </tr>\n",
       "    <tr>\n",
       "      <th>1990-02-01</th>\n",
       "      <td>0.4</td>\n",
       "    </tr>\n",
       "    <tr>\n",
       "      <th>1990-03-01</th>\n",
       "      <td>0.8</td>\n",
       "    </tr>\n",
       "    <tr>\n",
       "      <th>1990-04-01</th>\n",
       "      <td>0.7</td>\n",
       "    </tr>\n",
       "    <tr>\n",
       "      <th>1990-05-01</th>\n",
       "      <td>0.8</td>\n",
       "    </tr>\n",
       "    <tr>\n",
       "      <th>...</th>\n",
       "      <td>...</td>\n",
       "    </tr>\n",
       "    <tr>\n",
       "      <th>2022-08-01</th>\n",
       "      <td>856615.5</td>\n",
       "    </tr>\n",
       "    <tr>\n",
       "      <th>2022-09-01</th>\n",
       "      <td>827490.4</td>\n",
       "    </tr>\n",
       "    <tr>\n",
       "      <th>2022-10-01</th>\n",
       "      <td>826638.8</td>\n",
       "    </tr>\n",
       "    <tr>\n",
       "      <th>2022-11-01</th>\n",
       "      <td>837324.0</td>\n",
       "    </tr>\n",
       "    <tr>\n",
       "      <th>2022-12-01</th>\n",
       "      <td>840892.5</td>\n",
       "    </tr>\n",
       "  </tbody>\n",
       "</table>\n",
       "<p>396 rows × 1 columns</p>\n",
       "</div>"
      ],
      "text/plain": [
       "0                PIB\n",
       "Data                \n",
       "1990-01-01       0.2\n",
       "1990-02-01       0.4\n",
       "1990-03-01       0.8\n",
       "1990-04-01       0.7\n",
       "1990-05-01       0.8\n",
       "...              ...\n",
       "2022-08-01  856615.5\n",
       "2022-09-01  827490.4\n",
       "2022-10-01  826638.8\n",
       "2022-11-01  837324.0\n",
       "2022-12-01  840892.5\n",
       "\n",
       "[396 rows x 1 columns]"
      ]
     },
     "execution_count": 6,
     "metadata": {},
     "output_type": "execute_result"
    }
   ],
   "source": [
    "pib"
   ]
  },
  {
   "cell_type": "code",
   "execution_count": 4,
   "metadata": {},
   "outputs": [],
   "source": [
    "igpm = get_BCB(189)\n",
    "credito_pib = get_BCB(20622)\n",
    "div_liq = get_BCB(4536)\n",
    "pib = get_pib(\"http://www.ipeadata.gov.br/ExibeSerie.aspx?serid=521274780&module=M\")"
   ]
  },
  {
   "cell_type": "markdown",
   "metadata": {},
   "source": [
    "### Unindo valores em um dataframe"
   ]
  }
 ],
 "metadata": {
  "kernelspec": {
   "display_name": "Python 3 (ipykernel)",
   "language": "python",
   "name": "python3"
  },
  "language_info": {
   "codemirror_mode": {
    "name": "ipython",
    "version": 3
   },
   "file_extension": ".py",
   "mimetype": "text/x-python",
   "name": "python",
   "nbconvert_exporter": "python",
   "pygments_lexer": "ipython3",
   "version": "3.8.5"
  },
  "vscode": {
   "interpreter": {
    "hash": "72bf47092338eed38b0780b83b91fd9a109f9b0b6603c4f71c3497fbd9ba9af9"
   }
  }
 },
 "nbformat": 4,
 "nbformat_minor": 4
}
