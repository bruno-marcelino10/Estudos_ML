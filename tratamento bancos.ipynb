{
 "cells": [
  {
   "cell_type": "markdown",
   "metadata": {},
   "source": [
    "# Tratamento de Dados"
   ]
  },
  {
   "cell_type": "markdown",
   "metadata": {},
   "source": [
    "**TAREFA**\n",
    "\n",
    "Webscraping, coleta e preparação dos DataFrames."
   ]
  },
  {
   "cell_type": "markdown",
   "metadata": {},
   "source": [
    "Os dados consistem em uma base que contém as features:\n",
    "* IGP-M,\n",
    "* Var. % no PIB nominal, \n",
    "* Spread NTN-B, inclinação da curva \n",
    "* indicador de concessão de crédito.\n",
    "\n",
    " Como target, será importado o desempenho do **ETF FIND11**, que segue o IFNC, índice de desempenho das maiores instituições financeiras do país. "
   ]
  },
  {
   "cell_type": "markdown",
   "metadata": {},
   "source": [
    "### Importação de Bibliotecas"
   ]
  },
  {
   "cell_type": "code",
   "execution_count": 1,
   "metadata": {},
   "outputs": [],
   "source": [
    "import pandas as pd\n",
    "import numpy as np\n",
    "import matplotlib.pyplot as plt\n",
    "import yfinance as yf"
   ]
  },
  {
   "cell_type": "markdown",
   "metadata": {},
   "source": [
    "### Importação Target"
   ]
  },
  {
   "cell_type": "code",
   "execution_count": 25,
   "metadata": {},
   "outputs": [
    {
     "name": "stdout",
     "output_type": "stream",
     "text": [
      "[*********************100%***********************]  1 of 1 completed\n"
     ]
    }
   ],
   "source": [
    "data = yf.download(\"FIND11.SA\",\n",
    "                   start = '2000-01-01',\n",
    "                   period = \"max\", # 1d,5d,1mo,3mo,6mo,1y,2y,5y,10y,ytd,max\n",
    "                   interval = \"1mo\") # 1m,2m,5m,15m,30m,60m,90m,1h,1d,5d,1wk,1mo,3mo\n",
    "                   \n",
    "target = data[\"Adj Close\"].pct_change().dropna()\n",
    "target = pd.DataFrame(target)"
   ]
  },
  {
   "cell_type": "markdown",
   "metadata": {},
   "source": [
    "### Importação Features\n",
    "\n",
    "Fontes: \n",
    "\n",
    "https://www3.bcb.gov.br/sgspub/localizarseries/localizarSeries.do?method=prepararTelaLocalizarSeries\n",
    "\n",
    "https://dadosabertos.bcb.gov.br/dataset/20542-saldo-da-carteira-de-credito-com-recursos-livres---total/resource/6e2b0c97-afab-4790-b8aa-b9542923cf88\n",
    "\n",
    "http://www.ipeadata.gov.br/ExibeSerie.aspx?serid=521274780&module=M"
   ]
  },
  {
   "cell_type": "code",
   "execution_count": 7,
   "metadata": {},
   "outputs": [],
   "source": [
    "def get_BCB(codigo_serie):\n",
    "    url = f\"https://api.bcb.gov.br/dados/serie/bcdata.sgs.{codigo_serie}/dados?formato=json\"\n",
    "    df = pd.read_json(url)\n",
    "    df[\"data\"] = pd.to_datetime(df[\"data\"], dayfirst = True)\n",
    "    df.set_index(\"data\", inplace = True)\n",
    "    df[\"valor\"] = df[\"valor\"].astype(float)\n",
    "    return df\n",
    "\n",
    "def get_pib(url):\n",
    "    pib = pd.read_html(url)[2]\n",
    "    pib.columns = pib.loc[0]\n",
    "    pib.drop(0, axis = 0, inplace = True)\n",
    "    pib.reset_index(drop = True, inplace = True)\n",
    "\n",
    "    datas, pibs = [], []\n",
    "    for i in range(len(pib)):\n",
    "        data_iter = pib.iloc[i, 0].replace(\".\", \"\")\n",
    "        pib_iter = pib.iloc[i, 1].replace(\".\", \"\")              \n",
    "        pib_iter = float(pib_iter.replace(\",\", \"\"))/10000    \n",
    "        datas.append(data_iter)\n",
    "        pibs.append(pib_iter)\n",
    "\n",
    "    pib[\"Data\"] = pd.to_datetime(datas, format = \"%Y%m\")\n",
    "    pib[\"PIB\"] = pibs\n",
    "    pib.set_index(\"Data\", inplace = True)\n",
    "    \n",
    "    return pib"
   ]
  },
  {
   "cell_type": "code",
   "execution_count": 26,
   "metadata": {},
   "outputs": [],
   "source": [
    "igpm.columns = [\"IGP\"]\n",
    "credito_pib.columns = [\"CRED/PIB\"]\n",
    "div_liq.columns = [\"DIV_LIQ\"]\n",
    "target.columns = [\"FIND11\"]"
   ]
  },
  {
   "cell_type": "code",
   "execution_count": 4,
   "metadata": {},
   "outputs": [],
   "source": [
    "igpm = get_BCB(189)\n",
    "credito_pib = get_BCB(20622)\n",
    "div_liq = get_BCB(4536)\n",
    "pib = get_pib(\"http://www.ipeadata.gov.br/ExibeSerie.aspx?serid=521274780&module=M\")\n",
    "\n",
    "igpm.columns = [\"IGP\"]\n",
    "credito_pib.columns = [\"CRED/PIB\"]\n",
    "div_liq.columns = [\"DIV_LIQ\"]"
   ]
  },
  {
   "cell_type": "markdown",
   "metadata": {},
   "source": [
    "### Unindo valores em um dataframe"
   ]
  },
  {
   "cell_type": "code",
   "execution_count": 32,
   "metadata": {},
   "outputs": [],
   "source": [
    "from functools import reduce\n",
    "\n",
    "dfs = [igpm, credito_pib, div_liq, pib, target] \n",
    "df = reduce(lambda left, right: left.join(right, how = \"inner\"), dfs)"
   ]
  }
 ],
 "metadata": {
  "kernelspec": {
   "display_name": "Python 3 (ipykernel)",
   "language": "python",
   "name": "python3"
  },
  "language_info": {
   "codemirror_mode": {
    "name": "ipython",
    "version": 3
   },
   "file_extension": ".py",
   "mimetype": "text/x-python",
   "name": "python",
   "nbconvert_exporter": "python",
   "pygments_lexer": "ipython3",
   "version": "3.8.5"
  },
  "vscode": {
   "interpreter": {
    "hash": "72bf47092338eed38b0780b83b91fd9a109f9b0b6603c4f71c3497fbd9ba9af9"
   }
  }
 },
 "nbformat": 4,
 "nbformat_minor": 4
}
